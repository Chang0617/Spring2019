{
 "cells": [
  {
   "cell_type": "markdown",
   "metadata": {},
   "source": [
    "# PSTAT 134/234 - Statistical Data Science\n",
    "\n",
    "---\n",
    "\n",
    "## Instructor: Sang-Yun Oh\n",
    "\n",
    "- Email: [syoh@ucsb.edu](mailto:syoh@ucsb.edu)\n",
    "\n",
    "- Lectures: TR 9:30 am - 10:45 am\n",
    "\n",
    "- Office: South Hall 5514\n",
    "\n",
    "- Office hours: TBD"
   ]
  },
  {
   "cell_type": "markdown",
   "metadata": {},
   "source": [
    "# Course Information \n",
    "\n",
    "---\n",
    "\n",
    "## Grading\n",
    "\n",
    "* Attendance in lectures and sections are required (10%)  \n",
    "    Total of five will be dropped. No exceptions\n",
    "\n",
    "* Individual in-class midterm (25%)\n",
    "\n",
    "* Individual assignments (35%)\n",
    "\n",
    "* Group final project & poster session (30%)\n",
    "\n",
    "\n",
    "## Textbooks\n",
    "\n",
    "- [Python Data Science Handbook](https://jakevdp.github.io/PythonDataScienceHandbook/) by Jake Vanderplas\n",
    "\n",
    "- Other resources as needed"
   ]
  },
  {
   "cell_type": "markdown",
   "metadata": {},
   "source": [
    "# Tentative course outline\n",
    "\n",
    "---\n",
    "\n",
    "* **Week 1** (4/1-4/5): Data and uncertainty   \n",
    "    - Computing: Jupyter notebook and Python primer\n",
    "    - Reading: [Chapter 1 (skim)-2](https://jakevdp.github.io/PythonDataScienceHandbook/index.html#1.-IPython:-Beyond-Normal-Python) in Vanderplas\n",
    "    \n",
    "* **Week 2** (4/8-4/12): Data scraping, transformation, and wrangling\n",
    "    - Computing: Shell commands and Pandas\n",
    "    - Reading: [Chapter 3](https://jakevdp.github.io/PythonDataScienceHandbook/index.html#3.-Data-Manipulation-with-Pandas) in Vanderplas  \n",
    "        [The Unix Shell](http://swcarpentry.github.io/shell-novice/) by Software Carpentry  \n",
    "        \n",
    "* **Week 3-4** (4/15-4/26): Visualization and exploratory analysis\n",
    "    - Computing: Matplotlib and Scikit-learn\n",
    "    - Reading: [Chapter 4 (skim) - 5](https://jakevdp.github.io/PythonDataScienceHandbook/index.html#4.-Visualization-with-Matplotlib)\n",
    "\n",
    "* **In-class midterm** (4/30)\n",
    "\n",
    "* **Week 5-6** (5/1-5/10): Finance data module\n",
    "\n",
    "* **Week 7-8** (5/13-5/23): Health data module\n",
    "               \n",
    "* **Week 9** (5/27-5/31): Text data module\n",
    "\n",
    "* **Week 10** (6/3-6/7): TBD\n",
    "\n",
    "* **Final Projects** (6/14): Final project poster session\n"
   ]
  },
  {
   "cell_type": "markdown",
   "metadata": {},
   "source": [
    "# Computational Environment\n",
    "\n",
    "---\n",
    "\n",
    "## Github (optional but recommended)\n",
    "\n",
    "* [Github Student Account](https://education.github.com/pack)\n",
    "\n",
    "\n",
    "## Jupyterhub\n",
    "\n",
    "* [Course Jupyter Hub](https://pstat134.lsit.ucsb.edu)\n",
    "\n",
    "* For PSTAT 134/234 coursework only\n",
    "\n",
    "* Your work can be inspected by teaching staff at any time"
   ]
  }
 ],
 "metadata": {
  "kernelspec": {
   "display_name": "Python 3",
   "language": "python",
   "name": "python3"
  },
  "language_info": {
   "codemirror_mode": {
    "name": "ipython",
    "version": 3
   },
   "file_extension": ".py",
   "mimetype": "text/x-python",
   "name": "python",
   "nbconvert_exporter": "python",
   "pygments_lexer": "ipython3",
   "version": "3.6.6"
  }
 },
 "nbformat": 4,
 "nbformat_minor": 2
}
